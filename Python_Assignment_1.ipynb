{
  "nbformat": 4,
  "nbformat_minor": 0,
  "metadata": {
    "colab": {
      "name": "Python_Assignment_1.ipynb",
      "provenance": [],
      "collapsed_sections": []
    },
    "kernelspec": {
      "name": "python3",
      "display_name": "Python 3"
    },
    "language_info": {
      "name": "python"
    }
  },
  "cells": [
    {
      "cell_type": "markdown",
      "metadata": {
        "id": "zRnMfUbcprx5"
      },
      "source": [
        "1) The values are 'hello', -87.8 and 6 while the expressions are * , - , / , + \n"
      ]
    },
    {
      "cell_type": "markdown",
      "metadata": {
        "id": "zGtycDeNqSh4"
      },
      "source": [
        "2) Strings can be a character or group of characters coming together to form a \n",
        "word which are normally enclosed in double or single quotation whereas a \n",
        "variable is memory location where values like strings and integers can be stored. "
      ]
    },
    {
      "cell_type": "markdown",
      "metadata": {
        "id": "0R33nw3kPmUc"
      },
      "source": [
        "3) Three major data types are String, Float and Integers. \n",
        "* A String can be a character or group of characters enclosesd in quotations.\n",
        "* A Float is a numeric value with decimals\n",
        "* Integers are all the values on the number line. "
      ]
    },
    {
      "cell_type": "markdown",
      "metadata": {
        "id": "oeNgKpVoRMT8"
      },
      "source": [
        "4) An Expression is made up of operators and operands. The expressions with \n",
        "the help of these operators and operands produces some other value. \n",
        "\n",
        "Example: 2+3 = 5 \n",
        "\n",
        "Here 2+3 is an expression, '+' is an operator and 5 is output value of the operation"
      ]
    },
    {
      "cell_type": "markdown",
      "metadata": {
        "id": "PJ_ovvwJWGx8"
      },
      "source": [
        "5) Here, spam = 10 is a statement because we're declring a variable here and \n",
        "not getting a value as an output. As mentioned in the above cell that an expression\n",
        "produces a value as an output."
      ]
    },
    {
      "cell_type": "markdown",
      "metadata": {
        "id": "qlvami5aXKWX"
      },
      "source": [
        "6) The variable \"bacon\" will still contain 22 because\n",
        "'bacon + 1' is not assigned to the 'bacon' variable so it stays the same"
      ]
    },
    {
      "cell_type": "markdown",
      "metadata": {
        "id": "yeu6-MJ9XnIz"
      },
      "source": [
        "7) They're both going to output the same values  'spamspamspam' and 'spamspamspam'"
      ]
    },
    {
      "cell_type": "markdown",
      "metadata": {
        "id": "654qiYJ2YEjq"
      },
      "source": [
        "8) Because a group of letters can be used as a varible but a numerical value cannot"
      ]
    },
    {
      "cell_type": "markdown",
      "metadata": {
        "id": "1XWyHBxaYGCM"
      },
      "source": [
        "9) The 'int()', 'str()' and 'float()' functions can be used to get integer, float\n",
        "string version of a value"
      ]
    },
    {
      "cell_type": "markdown",
      "metadata": {
        "id": "EEE7XPShYPlE"
      },
      "source": [
        "10) 'I have eaten' + 99 + 'burritos' will throw an error because we're trying to\n",
        "add an integer value to a string which is not possible. To fix this we need to convert\n",
        "'99' into a string using str() function. Example: 'I have eaten' + str(99) + 'burritos'"
      ]
    },
    {
      "cell_type": "code",
      "metadata": {
        "id": "Q3nPrb9McEXM"
      },
      "source": [
        ""
      ],
      "execution_count": null,
      "outputs": []
    }
  ]
}